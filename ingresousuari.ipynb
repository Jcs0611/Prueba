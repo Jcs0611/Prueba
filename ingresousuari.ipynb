{
  "nbformat": 4,
  "nbformat_minor": 0,
  "metadata": {
    "colab": {
      "name": "ingresousuari.ipynb",
      "provenance": [],
      "collapsed_sections": [],
      "authorship_tag": "ABX9TyMNGO1z4FZaNQtxivEIgFX4",
      "include_colab_link": true
    },
    "kernelspec": {
      "name": "python3",
      "display_name": "Python 3"
    },
    "language_info": {
      "name": "python"
    }
  },
  "cells": [
    {
      "cell_type": "markdown",
      "metadata": {
        "id": "view-in-github",
        "colab_type": "text"
      },
      "source": [
        "<a href=\"https://colab.research.google.com/github/Jcs0611/Prueba/blob/main/ingresousuari.ipynb\" target=\"_parent\"><img src=\"https://colab.research.google.com/assets/colab-badge.svg\" alt=\"Open In Colab\"/></a>"
      ]
    },
    {
      "cell_type": "code",
      "source": [
        "Admin = \"pizza\"\n",
        "\n",
        "Pass = \"l123\" \n"
      ],
      "metadata": {
        "id": "D5Svi7MRXvs4"
      },
      "execution_count": 25,
      "outputs": []
    },
    {
      "cell_type": "code",
      "source": [
        "\n",
        "print(\"hola para ingresa con tu usuario\")\n",
        "\n",
        "usuario = input(\"Usuario:  \") \n",
        "\n",
        "Clave = input(\" Clave:  \")\n",
        "\n"
      ],
      "metadata": {
        "colab": {
          "base_uri": "https://localhost:8080/"
        },
        "id": "WvXp3rqVUFcw",
        "outputId": "57a332a7-ed00-43c4-82ee-cf8b4c468167"
      },
      "execution_count": 26,
      "outputs": [
        {
          "name": "stdout",
          "output_type": "stream",
          "text": [
            "hola para ingresa con tu usuario\n",
            "Usuario:  Pizza\n",
            " Clave:  l123\n"
          ]
        }
      ]
    },
    {
      "cell_type": "code",
      "source": [
        "if  Admin == usuario:\n",
        "  if Pass == Clave:\n",
        "    print(\"ingreso\")\n",
        "\n",
        "else: print(\"no ingreso\")"
      ],
      "metadata": {
        "colab": {
          "base_uri": "https://localhost:8080/"
        },
        "id": "MpGzL1dTYrBT",
        "outputId": "b80af90a-108a-4a38-9b31-bdec88e51e47"
      },
      "execution_count": 27,
      "outputs": [
        {
          "output_type": "stream",
          "name": "stdout",
          "text": [
            "no ingreso\n"
          ]
        }
      ]
    },
    {
      "cell_type": "code",
      "source": [
        "print(\"version\")"
      ],
      "metadata": {
        "id": "oC0YKhZogjxJ"
      },
      "execution_count": null,
      "outputs": []
    },
    {
      "cell_type": "code",
      "source": [
        "a"
      ],
      "metadata": {
        "colab": {
          "base_uri": "https://localhost:8080/",
          "height": 165
        },
        "id": "kndGPcq-hEXF",
        "outputId": "6cfb06dc-05c0-412e-a1d4-420f8b9dae26"
      },
      "execution_count": 29,
      "outputs": [
        {
          "output_type": "error",
          "ename": "NameError",
          "evalue": "ignored",
          "traceback": [
            "\u001b[0;31m---------------------------------------------------------------------------\u001b[0m",
            "\u001b[0;31mNameError\u001b[0m                                 Traceback (most recent call last)",
            "\u001b[0;32m<ipython-input-29-3f786850e387>\u001b[0m in \u001b[0;36m<module>\u001b[0;34m()\u001b[0m\n\u001b[0;32m----> 1\u001b[0;31m \u001b[0ma\u001b[0m\u001b[0;34m\u001b[0m\u001b[0;34m\u001b[0m\u001b[0m\n\u001b[0m",
            "\u001b[0;31mNameError\u001b[0m: name 'a' is not defined"
          ]
        }
      ]
    }
  ]
}